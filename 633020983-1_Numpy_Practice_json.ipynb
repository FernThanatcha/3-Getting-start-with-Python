{
  "cells": [
    {
      "cell_type": "markdown",
      "id": "f1826f12",
      "metadata": {
        "id": "f1826f12"
      },
      "source": [
        "ให้ทุกคนฝึกฝนด้วยตนเองก่อนคลาสในวันศุกร์\n",
        "* อ่านไฟล์ใน Google Drive ของตนเองบน Google Colab\n",
        "* อ่านไฟล์ในเครื่องตนเองด้วย Jupyter Notebook ในเครื่องของตน\n",
        "* อ่านไฟล์ใน Google Drive ของตนเองผ่าน Jupyter Notebook ในเครื่องของตน ซึ่งสามารถสร้าง sharable link แล้วนำมาเป็น path ของไฟล์ที่ต้องการอ่านได้ (หรือปกติก็สามารถดาวน์โหลดไฟล์ลงเครื่องตนเองแล้วอ่านตามปกติ)"
      ]
    },
    {
      "cell_type": "code",
      "execution_count": 1,
      "id": "dd2b0e12",
      "metadata": {
        "id": "dd2b0e12"
      },
      "outputs": [],
      "source": [
        "import numpy as np"
      ]
    },
    {
      "cell_type": "code",
      "source": [
        "x = np.arange(5)\n",
        "x"
      ],
      "metadata": {
        "colab": {
          "base_uri": "https://localhost:8080/"
        },
        "id": "WO6Pj5AVQZVj",
        "outputId": "abe028bf-400a-4f6e-8541-f6c9d818de67"
      },
      "id": "WO6Pj5AVQZVj",
      "execution_count": 2,
      "outputs": [
        {
          "output_type": "execute_result",
          "data": {
            "text/plain": [
              "array([0, 1, 2, 3, 4])"
            ]
          },
          "metadata": {},
          "execution_count": 2
        }
      ]
    },
    {
      "cell_type": "code",
      "source": [
        "# numpy.linspace(start, stop, num=50, endpoint=True, retstep=False, dtype=None, axis=0)[source]\n",
        "y = np.linspace(start = 2, stop = 10, num = 5)\n",
        "y"
      ],
      "metadata": {
        "colab": {
          "base_uri": "https://localhost:8080/"
        },
        "id": "IMp72y9MQrPD",
        "outputId": "41e48132-5929-4b28-db92-4c50b681dfa7"
      },
      "id": "IMp72y9MQrPD",
      "execution_count": 3,
      "outputs": [
        {
          "output_type": "execute_result",
          "data": {
            "text/plain": [
              "array([ 2.,  4.,  6.,  8., 10.])"
            ]
          },
          "metadata": {},
          "execution_count": 3
        }
      ]
    },
    {
      "cell_type": "markdown",
      "id": "4fa59e1f",
      "metadata": {
        "id": "4fa59e1f"
      },
      "source": [
        "Chebyshev distance เป็นการวัดความต่างระหว่างข้อมูลแบบ $L_\\infty$ norm ซึ่งเป็นกรณีพิเศษของ Minkowski distance: $\\left(\\sum_{i=1}^{k} \\lvert x_i - y_i \\rvert^r\\right)^{1/r}$ ที่ $r=\\infty$ โดยสามารถคำนวณค่าได้ดังนี้\n",
        "$$d(x,y) = \\max_{i} \\left( \\lvert x_{i} - y_{i} \\rvert \\right)$$"
      ]
    },
    {
      "cell_type": "markdown",
      "id": "704ef53a",
      "metadata": {
        "id": "704ef53a"
      },
      "source": [
        "สร้างฟังก์ชันสำหรับคำนวณ Chebyshev distance ระหว่างเวคเตอร์ 2 เวคเตอร์ ที่แต่ละเวคเตอร์มีขนาด k มิติ (numpy array of length k)"
      ]
    },
    {
      "cell_type": "code",
      "execution_count": 4,
      "id": "0b20f410",
      "metadata": {
        "id": "0b20f410"
      },
      "outputs": [],
      "source": [
        "def Cheby_dis(vec1,vec2):\n",
        "      dist= np.max(np.absolute(np.array(vec1) - np.array(vec2)))\n",
        "      return dist"
      ]
    },
    {
      "cell_type": "code",
      "source": [
        "Cheby_dis(x,y)"
      ],
      "metadata": {
        "colab": {
          "base_uri": "https://localhost:8080/"
        },
        "id": "fbkXTnp_en61",
        "outputId": "38dcc535-d19c-459a-af09-5655997bed0d"
      },
      "id": "fbkXTnp_en61",
      "execution_count": 5,
      "outputs": [
        {
          "output_type": "execute_result",
          "data": {
            "text/plain": [
              "6.0"
            ]
          },
          "metadata": {},
          "execution_count": 5
        }
      ]
    },
    {
      "cell_type": "markdown",
      "id": "4b22711a",
      "metadata": {
        "id": "4b22711a"
      },
      "source": [
        "Canberra distance เป็นการวัดความต่างระหว่างข้อมูลแบบ Manhattan distance ที่ถ่วงน้ำหนัก (weighted Manhattan distance) โดยคำนวณดังนี้\n",
        "$$d(x,y) = \\sum_{i=1}^{k} \\frac{\\lvert x_{i} - y_{i} \\rvert}{\\lvert x_{i} \\rvert + \\lvert y_{i} \\rvert}$$"
      ]
    },
    {
      "cell_type": "markdown",
      "id": "a9fc6c1b",
      "metadata": {
        "id": "a9fc6c1b"
      },
      "source": [
        "สร้างฟังก์ชันสำหรับคำนวณ Canberra distance ระหว่างเวคเตอร์ 2 เวคเตอร์ ที่แต่ละเวคเตอร์มีขนาด k มิติ"
      ]
    },
    {
      "cell_type": "code",
      "execution_count": 6,
      "id": "5c92f63f",
      "metadata": {
        "id": "5c92f63f"
      },
      "outputs": [],
      "source": [
        "def Canber_dis(vec1,vec2):\n",
        "      dist= np.sum(np.absolute(np.array(vec1) - np.array(vec2))/(np.absolute(np.array(vec1) + np.array(vec2))))\n",
        "      return dist"
      ]
    },
    {
      "cell_type": "code",
      "source": [
        "Canber_dis(x,y)"
      ],
      "metadata": {
        "colab": {
          "base_uri": "https://localhost:8080/"
        },
        "id": "K9mOzKUeev7z",
        "outputId": "7bc93eb4-6173-424c-ba6a-5d67931f9aeb"
      },
      "id": "K9mOzKUeev7z",
      "execution_count": 7,
      "outputs": [
        {
          "output_type": "execute_result",
          "data": {
            "text/plain": [
              "2.983116883116883"
            ]
          },
          "metadata": {},
          "execution_count": 7
        }
      ]
    },
    {
      "cell_type": "markdown",
      "id": "4536822f",
      "metadata": {
        "id": "4536822f"
      },
      "source": [
        "สร้างฟังก์ชันสำหรับคำนวณค่าเฉลี่ยของค่าในเวคเตอร์หนึ่ง โดยไม่ใช้ฟังก์ชันสำเร็จรูป `mean()` ใช้เพียง numpy array และการบวกลบคูณหาร"
      ]
    },
    {
      "cell_type": "markdown",
      "source": [
        "**ให้นัมพายดอทซัมหารเลจ\n",
        "\n",
        "\n",
        "\n"
      ],
      "metadata": {
        "id": "_0HsuJLRXm39"
      },
      "id": "_0HsuJLRXm39"
    },
    {
      "cell_type": "code",
      "execution_count": 8,
      "id": "961ec0b4",
      "metadata": {
        "id": "961ec0b4"
      },
      "outputs": [],
      "source": [
        "def func_mean(vec):\n",
        "  mean = np.sum(vec) / len(vec)\n",
        "  return mean"
      ]
    },
    {
      "cell_type": "code",
      "source": [
        "func_mean(x)"
      ],
      "metadata": {
        "colab": {
          "base_uri": "https://localhost:8080/"
        },
        "id": "SNFt53Yne5Sx",
        "outputId": "31be6187-86a7-4254-8203-11eed96e19f9"
      },
      "id": "SNFt53Yne5Sx",
      "execution_count": 9,
      "outputs": [
        {
          "output_type": "execute_result",
          "data": {
            "text/plain": [
              "2.0"
            ]
          },
          "metadata": {},
          "execution_count": 9
        }
      ]
    },
    {
      "cell_type": "markdown",
      "id": "b623b625",
      "metadata": {
        "id": "b623b625"
      },
      "source": [
        "สร้างฟังก์ชันสำหรับคำนวณค่าเบี่ยงเบนมาตรฐานของค่าในเวคเตอร์หนึ่ง โดยไม่ใช้ฟังก์ชัน `std()` หรือ `stddev()` ใช้เพียง numpy array และการบวกลบคูณหาร"
      ]
    },
    {
      "cell_type": "markdown",
      "source": [
        "**ใช้สูตรนัมพายสแควรูท นัมพายซัม หาร n-1"
      ],
      "metadata": {
        "id": "ijLNoLuiXu9i"
      },
      "id": "ijLNoLuiXu9i"
    },
    {
      "cell_type": "code",
      "execution_count": 10,
      "id": "8e163a57",
      "metadata": {
        "id": "8e163a57"
      },
      "outputs": [],
      "source": [
        "def func_std(vec):\n",
        "  std =  np.sqrt(np.mean(vec))\n",
        "  data1 = np.sqrt(vec - np.mean(std))**2\n",
        "  return std"
      ]
    },
    {
      "cell_type": "code",
      "source": [
        "func_std(x)"
      ],
      "metadata": {
        "colab": {
          "base_uri": "https://localhost:8080/"
        },
        "id": "w_H7xM_8fAMY",
        "outputId": "073261b5-4288-4f3e-9d07-7b60fea530f4"
      },
      "id": "w_H7xM_8fAMY",
      "execution_count": 11,
      "outputs": [
        {
          "output_type": "stream",
          "name": "stderr",
          "text": [
            "<ipython-input-10-7adf32ad4e37>:3: RuntimeWarning: invalid value encountered in sqrt\n",
            "  data1 = np.sqrt(vec - np.mean(std))**2\n"
          ]
        },
        {
          "output_type": "execute_result",
          "data": {
            "text/plain": [
              "1.4142135623730951"
            ]
          },
          "metadata": {},
          "execution_count": 11
        }
      ]
    }
  ],
  "metadata": {
    "kernelspec": {
      "display_name": "Python 3 (ipykernel)",
      "language": "python",
      "name": "python3"
    },
    "language_info": {
      "codemirror_mode": {
        "name": "ipython",
        "version": 3
      },
      "file_extension": ".py",
      "mimetype": "text/x-python",
      "name": "python",
      "nbconvert_exporter": "python",
      "pygments_lexer": "ipython3",
      "version": "3.8.8"
    },
    "colab": {
      "provenance": []
    }
  },
  "nbformat": 4,
  "nbformat_minor": 5
}